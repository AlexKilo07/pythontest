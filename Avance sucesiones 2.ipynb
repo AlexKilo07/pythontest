{
  "cells": [
    {
      "cell_type": "markdown",
      "metadata": {
        "id": "Jsg7AmugfdN3"
      },
      "source": [
        "# Problema 1"
      ]
    },
    {
      "cell_type": "markdown",
      "metadata": {
        "id": "_IzpNklvfgKe"
      },
      "source": [
        "Considere la sucesión $a_{n} = 3n^{2} + 7$. Por medio de un código en *Python* despliega en pantalla:\n",
        "\n",
        "1. Los primeros $5$ términos.\n",
        "2. Los $5$ términos que vienen inmediatamente después del decimoquinto término."
      ]
    },
    {
      "cell_type": "code",
      "execution_count": 5,
      "metadata": {},
      "outputs": [
        {
          "name": "stdout",
          "output_type": "stream",
          "text": [
            "Los primero 5 terminos de la sucesión\n",
            "a_1=3*1^2+7=10\n",
            "a_2=3*2^2+7=19\n",
            "a_3=3*3^2+7=34\n",
            "a_4=3*4^2+7=55\n",
            "a_5=3*5^2+7=82\n"
          ]
        }
      ],
      "source": [
        "1.\n",
        "print(\"Los primero 5 terminos de la sucesión\")\n",
        "\n",
        "def a_n(n):\n",
        "    return 3*n**2+7\n",
        "\n",
        "for n in range(1,6):\n",
        "    termino=a_n(n)\n",
        "    print(f\"a_{n}=3*{n}^2+7={termino}\")"
      ]
    },
    {
      "cell_type": "code",
      "execution_count": 6,
      "metadata": {},
      "outputs": [
        {
          "name": "stdout",
          "output_type": "stream",
          "text": [
            "'Los primeros 5 terminos que vienen inmediatamente después del decimo quinto termino,\n",
            "      es decir los terminos 16,17,18,19,20\n",
            "a_16=3*16^2+7=775\n",
            "a_17=3*17^2+7=874\n",
            "a_18=3*18^2+7=979\n",
            "a_19=3*19^2+7=1090\n",
            "a_20=3*20^2+7=1207\n"
          ]
        }
      ],
      "source": [
        "2.\n",
        "print(''''Los primeros 5 terminos que vienen inmediatamente después del decimo quinto termino,\n",
        "      es decir los terminos 16,17,18,19,20''')\n",
        "\n",
        "def a_n(n):\n",
        "    return 3*n**2+7\n",
        "\n",
        "for n in range(16,21):\n",
        "    termino=a_n(n)\n",
        "    print(f\"a_{n}=3*{n}^2+7={termino}\")"
      ]
    },
    {
      "cell_type": "markdown",
      "metadata": {
        "id": "MpHLoYWfk97E"
      },
      "source": [
        "# Problema 2"
      ]
    },
    {
      "cell_type": "markdown",
      "metadata": {
        "id": "TdrPqS7Mk_l0"
      },
      "source": [
        "Considere la sucesión $g_{n} = 5n^{3}$. Implemente un código en *Python* que muestre en pantalla:\n",
        "\n",
        "1. Los primeros $4$ términos de la sucesión.\n",
        "2. Los $4$ términos que vienen inmediatamente después del octavo término.\n",
        "3. Determinar si el término $40.000$ pertenece a la sucesión. Si es así, indicar en qué posición se encuentra."
      ]
    },
    {
      "cell_type": "code",
      "execution_count": 4,
      "metadata": {},
      "outputs": [
        {
          "name": "stdout",
          "output_type": "stream",
          "text": [
            "Los primeros 4 terminos de la sucesión:\n",
            "a_1=5*1^3=5\n",
            "a_2=5*2^3=40\n",
            "a_3=5*3^3=135\n",
            "a_4=5*4^3=320\n"
          ]
        }
      ],
      "source": [
        "1.\n",
        "print(\"Los primeros 4 terminos de la sucesión:\")\n",
        "\n",
        "def g_n(n):\n",
        "    return 5*n**3\n",
        "\n",
        "for n in range(1,5):\n",
        "    termino=g_n(n)\n",
        "    print(f\"a_{n}=5*{n}^3={termino}\")"
      ]
    },
    {
      "cell_type": "code",
      "execution_count": 5,
      "metadata": {},
      "outputs": [
        {
          "name": "stdout",
          "output_type": "stream",
          "text": [
            "Los 4 terminos que vienen inmediatamente después del octavo termino,\n",
            "      es decir los terminos 9,10,11,12\n",
            "a_9=59^3=3645\n",
            "a_10=510^3=5000\n",
            "a_11=511^3=6655\n",
            "a_12=512^3=8640\n"
          ]
        }
      ],
      "source": [
        "2\n",
        "print('''Los 4 terminos que vienen inmediatamente después del octavo termino,\n",
        "      es decir los terminos 9,10,11,12''')\n",
        "\n",
        "def g_n(n):\n",
        "    return 5*n**3\n",
        "\n",
        "for n in range(9,13):\n",
        "    termino=g_n(n)\n",
        "    print(f\"a_{(n)}=5{n}^3={termino}\")"
      ]
    },
    {
      "cell_type": "code",
      "execution_count": null,
      "metadata": {},
      "outputs": [
        {
          "name": "stdout",
          "output_type": "stream",
          "text": [
            "Determinar si el término 40.000 pertenece a la sucesión. Si es así, indicar en qué posición se encuentra.\n",
            "19.999999999999996\n",
            "40000 si pertenece a la sucesion y está en la posición 20\n"
          ]
        }
      ],
      "source": [
        "3.\n",
        "print(\"Determinar si el término 40.000 pertenece a la sucesión. Si es así, indicar en qué posición se encuentra.\")\n",
        "\n",
        "n_calculado=(40000/5)**(1/3) \n",
        "\n",
        "print(n_calculado)\n",
        "\n",
        "print(\"40000 si pertenece a la sucesion y está en la posición 20\")"
      ]
    },
    {
      "cell_type": "markdown",
      "metadata": {
        "id": "7GDU-KDLuR7i"
      },
      "source": [
        "# Problema 3"
      ]
    },
    {
      "cell_type": "markdown",
      "metadata": {
        "id": "GG1duXd1uU6Z"
      },
      "source": [
        "La sucesión de Fibonacci es una serie de números en la que cada número, desde el tercero en adelante, es la suma de los dos anteriores. Comienza con el $0$ y $1$, tal como se observa a continuación:\n",
        "\n",
        "$$0, 1, 1, 2, 3, 5, 8, 13, ...$$\n",
        "\n",
        "Formalmente, la sucesión se define de la siguiente manera:\n",
        "\n",
        "\\begin{split}\n",
        "F(0) &= 0\\\\\n",
        "F(1) &= 1\\\\\n",
        "F(n) &= F(n - 1) + F(n - 2), \\ \\text{ para $n \\geq 2$}\n",
        "\\end{split}\n",
        "\n",
        "Esta sucesión se utiliza en una variedad de contextos en informática y algoritmos debido a sus propiedades matemáticas y patrones.\n",
        "\n",
        "1. Implementa un código en *Python* que muestre en pantalla los primeros $20$ términos de la sucesión.\n",
        "2. Calcula, utilizando un ciclo *for*, la suma de los primeros $30$ términos de la sucesión de Fibonacci||."
      ]
    },
    {
      "cell_type": "code",
      "execution_count": 11,
      "metadata": {},
      "outputs": [
        {
          "name": "stdout",
          "output_type": "stream",
          "text": [
            "Los primeros 20 terminos de la sucesión:\n",
            "Los primeros 20 de Fibonacci son:\n",
            "1) 0 = 0\n",
            "2) 1 = 1\n",
            "3) 2 = 1\n",
            "4) 3 = 2\n",
            "5) 4 = 3\n",
            "6) 5 = 5\n",
            "7) 6 = 8\n",
            "8) 7 = 13\n",
            "9) 8 = 21\n",
            "10) 9 = 34\n",
            "11) 10 = 55\n",
            "12) 11 = 89\n",
            "13) 12 = 144\n",
            "14) 13 = 233\n",
            "15) 14 = 377\n",
            "16) 15 = 610\n",
            "17) 16 = 987\n",
            "18) 17 = 1597\n",
            "19) 18 = 2584\n",
            "20) 19 = 4181\n",
            "21) 20 = 6765\n"
          ]
        }
      ],
      "source": [
        "1.\n",
        "print(\"Los primeros 20 terminos de la sucesión:\")\n",
        "\n",
        "def f(n):\n",
        "    if n==0:\n",
        "        return 0\n",
        "    elif n==1:\n",
        "        return 1\n",
        "    elif n>=2:\n",
        "        return f(n-1)+f(n-2)\n",
        "\n",
        "print(\"Los primeros 20 de Fibonacci son:\")\n",
        "for n in range (0,21):\n",
        "    termino=f(n)\n",
        "    print(F\"{n+1}) {n} = {termino}\")\n"
      ]
    },
    {
      "cell_type": "code",
      "execution_count": 15,
      "metadata": {},
      "outputs": [
        {
          "name": "stdout",
          "output_type": "stream",
          "text": [
            "la suma de los primeros 30 términos de la sucesión de Fibonacci es: \n",
            "2178308\n"
          ]
        }
      ],
      "source": [
        "2.\n",
        "print(\"la suma de los primeros 30 términos de la sucesión de Fibonacci es: \")\n",
        "\n",
        "def f(n):\n",
        "    if n==0:\n",
        "        return 0\n",
        "    elif n==1:\n",
        "        return 1\n",
        "    elif n>=2:\n",
        "        return f(n-1)+f(n-2)\n",
        "\n",
        "lista=[]\n",
        "\n",
        "for n in range(0,31):\n",
        "    termino=f(n)\n",
        "    lista.append(termino)\n",
        "\n",
        "suma=sum(lista)\n",
        "print(suma)"
      ]
    },
    {
      "cell_type": "markdown",
      "metadata": {
        "id": "OFL3b7nt8Rq_"
      },
      "source": [
        "# Problema 4"
      ]
    },
    {
      "cell_type": "markdown",
      "metadata": {
        "id": "j5QlZQwJSDsZ"
      },
      "source": [
        "Implementa un código que permita guardar en una lista la sucesión de los primeros $n$ números pares, con $n \\geq 1$. Luego, determina:\n",
        "\n",
        "1. ¿Cuál es el valor del décimo término?\n",
        "2. Calcula, utilizando un ciclo *for*, la suma de los primeros $100$ números pares.\n",
        "3. ¿En qué posición se encuentra el número $58$ dentro de la sucesión?"
      ]
    },
    {
      "cell_type": "code",
      "execution_count": 8,
      "metadata": {},
      "outputs": [
        {
          "name": "stdout",
          "output_type": "stream",
          "text": [
            "[2, 4, 6, 8, 10, 12, 14, 16, 18, 20]\n",
            "El decimo termino es: 20\n"
          ]
        }
      ],
      "source": [
        "1.\n",
        "\n",
        "lista=[]\n",
        "\n",
        "def f(n):\n",
        "    if n>=1:\n",
        "        return 2*n\n",
        "    \n",
        "for n in range(1,11):\n",
        "    termino=f(n)\n",
        "    lista.append(termino)\n",
        "\n",
        "print(lista)\n",
        "print(f\"El decimo termino es: {lista[9]}\")\n",
        "\n",
        "# for n in range(0,9):\n",
        "#     print(lista[n])\n",
        "\n",
        "    "
      ]
    },
    {
      "cell_type": "code",
      "execution_count": 16,
      "metadata": {},
      "outputs": [
        {
          "name": "stdout",
          "output_type": "stream",
          "text": [
            "[2, 4, 6, 8, 10, 12, 14, 16, 18, 20, 22, 24, 26, 28, 30, 32, 34, 36, 38, 40, 42, 44, 46, 48, 50, 52, 54, 56, 58, 60, 62, 64, 66, 68, 70, 72, 74, 76, 78, 80, 82, 84, 86, 88, 90, 92, 94, 96, 98, 100, 102, 104, 106, 108, 110, 112, 114, 116, 118, 120, 122, 124, 126, 128, 130, 132, 134, 136, 138, 140, 142, 144, 146, 148, 150, 152, 154, 156, 158, 160, 162, 164, 166, 168, 170, 172, 174, 176, 178, 180, 182, 184, 186, 188, 190, 192, 194, 196, 198, 200]\n",
            "La suma de los primeros 100 numeros pares es: 10100\n"
          ]
        }
      ],
      "source": [
        "2.\n",
        "lista=[]\n",
        "\n",
        "def f(n):\n",
        "    if n>=1:\n",
        "        return 2*n\n",
        "    \n",
        "for n in range(1,101):\n",
        "    termino=f(n)\n",
        "    lista.append(termino)\n",
        "\n",
        "suma=sum(lista)\n",
        "\n",
        "print(lista)\n",
        "print(f\"La suma de los primeros 100 numeros pares es: {suma}\")\n",
        "\n"
      ]
    },
    {
      "cell_type": "code",
      "execution_count": 19,
      "metadata": {},
      "outputs": [
        {
          "name": "stdout",
          "output_type": "stream",
          "text": [
            "El numero 58 se encuentra en la posición: 28\n"
          ]
        }
      ],
      "source": [
        "3.\n",
        "lista=[]\n",
        "\n",
        "def f(n):\n",
        "    if n>=1:\n",
        "        return 2*n\n",
        "    \n",
        "for n in range(1,101):\n",
        "    termino=f(n)\n",
        "    lista.append(termino)\n",
        "\n",
        "posicion=lista.index(58)\n",
        "\n",
        "print(f\"El numero 58 se encuentra en la posición: {posicion}\")"
      ]
    },
    {
      "cell_type": "markdown",
      "metadata": {
        "id": "gBcDYpK2Z3GT"
      },
      "source": [
        "# Problema 5"
      ]
    },
    {
      "cell_type": "markdown",
      "metadata": {
        "id": "eS3i68R4Z6YQ"
      },
      "source": [
        "Un nuevo software tiene $500$ usuarios y se espera que el número de usuarios crezca un $15\\%$ respecto al mes anterior. Considere que $b_{n}$ es el número de usuarios transcurridos $n$ meses.\n",
        "\n",
        "1. Calcula cuántos usuarios tendrá el software al cabo de tres meses. ¿Y al cabo de seis meses?\n",
        "2. Mediante un código en *Pyhton* muestra la cantidad de usuarios que tendrá el software cada mes durante el primer año.\n",
        "2. ¿Cuántos usuarios tendrá en total el software luego de un año? Utilice ciclos *for* para calcular."
      ]
    },
    {
      "cell_type": "code",
      "execution_count": 23,
      "metadata": {},
      "outputs": [
        {
          "name": "stdout",
          "output_type": "stream",
          "text": [
            "El numero de usuarios que tendrá el software al cabo de tres meses es: 760.4\n",
            "El numero de usuarios que tendrá el software al cabo de seis meses es: 1156.5\n"
          ]
        }
      ],
      "source": [
        "1.\n",
        "def b_n(n):\n",
        "    return 500*(1.15)**n\n",
        "\n",
        "termino1=b_n(3)\n",
        "termino2=b_n(6)\n",
        "\n",
        "print(f\"El numero de usuarios que tendrá el software al cabo de tres meses es: {termino1:.1f}\")\n",
        "print(f\"El numero de usuarios que tendrá el software al cabo de seis meses es: {termino2:.1f}\")"
      ]
    },
    {
      "cell_type": "code",
      "execution_count": 31,
      "metadata": {},
      "outputs": [
        {
          "name": "stdout",
          "output_type": "stream",
          "text": [
            "La cantidad de usuarios que tendrá el software cada mes durante el primer año son: [575.0, 661.2499999999999, 760.4374999999999, 874.5031249999997, 1005.6785937499997, 1156.5303828124995, 1330.0099402343744, 1529.5114312695305, 1758.9381459599597, 2022.7788678539534, 2326.195698032046, 2675.125052736853]\n"
          ]
        }
      ],
      "source": [
        "# 2. INCOMPLETO !!!\n",
        "lista=[]\n",
        "\n",
        "def b_n(n):\n",
        "    return 500*(1.15)**n\n",
        "\n",
        "for n in range(1,13):\n",
        "    termino=b_n(n)\n",
        "    lista.append(termino)\n",
        "\n",
        "print(f\"La cantidad de usuarios que tendrá el software cada mes durante el primer año son: {lista}\")"
      ]
    },
    {
      "cell_type": "code",
      "execution_count": 37,
      "metadata": {},
      "outputs": [
        {
          "name": "stdout",
          "output_type": "stream",
          "text": [
            "Luego de un año el software tendrá 16675.96 usuarios\n"
          ]
        }
      ],
      "source": [
        "3.\n",
        "lista=[]\n",
        "\n",
        "def b_n(n):\n",
        "    return 500*(1.15)**n\n",
        "\n",
        "for n in range(1,13):\n",
        "    termino=b_n(n)\n",
        "    lista.append(termino)\n",
        "\n",
        "suma=sum(lista)\n",
        "\n",
        "print(f\"Luego de un año el software tendrá {suma:.2f} usuarios\")"
      ]
    },
    {
      "cell_type": "markdown",
      "metadata": {
        "id": "s2hruXWnJDbS"
      },
      "source": [
        "# Problema 6"
      ]
    },
    {
      "cell_type": "markdown",
      "metadata": {
        "id": "hH_VNmA_Og0U"
      },
      "source": [
        "Un estudiante de ingeniería informática planea ahorrar para un proyecto personal. Para esto, el primer mes deposita en una cuenta $\\$12.000$, el segundo mes deposita $\\$14.000$ y así sucesivamente, de modo que cada mes aumenta el depósito en $\\$2.000$. Considere que $a_{i}$ corresponde al depósito del estudiante en el mes $i$.\n",
        "\n",
        "1. Implementa un código que permita mostrar en pantalla lo que depositó mensualmente durante el primer año.\n",
        "2. ¿Cuánto depositó el estudiante en febrero del segundo año?\n",
        "3. ¿Cuál será el total ahorrado al finalizar dos años?"
      ]
    },
    {
      "cell_type": "markdown",
      "metadata": {
        "id": "G9sEfl4rB3e8"
      },
      "source": [
        "# Problema 7"
      ]
    },
    {
      "cell_type": "markdown",
      "metadata": {
        "id": "KZUNnG20CT4F"
      },
      "source": [
        "Por lo general, los proyectos son organizados en varias etapas que deben completarse secuencialmente.\n",
        "\n",
        "La fase inicial de un proyecto de software tiene una duración de $3$ meses y cada fase subsecuente reduce su duración en un $10 \\%$ debido a la experiencia ganada. Determine:\n",
        "\n",
        "1. ¿Cuánto dura la quinta fase?\n",
        "2. Calcula la duración total del proyecto después de $10$ fases."
      ]
    },
    {
      "cell_type": "markdown",
      "metadata": {
        "id": "keVOy_xIlU1E"
      },
      "source": [
        "# Problema 8"
      ]
    },
    {
      "cell_type": "markdown",
      "metadata": {
        "id": "QXrNG-zulXil"
      },
      "source": [
        "En una sucesión aritmética, la diferencia entre un término y el anterior es $4$ y el décimo término es $-20$. Determine:\n",
        "\n",
        "1. El primer término de la sucesión.\n",
        "2. La expresión del término de lugar $n$.\n",
        "3. Utilice un código en *Python* para calcular el término que ocupa el lugar $100$.\n",
        "4. Determinar la posición del número $1.680$ en la secuencia. Calcule utilizando un ciclo *while*."
      ]
    },
    {
      "cell_type": "markdown",
      "metadata": {
        "id": "gFYqGSbdqoqT"
      },
      "source": [
        "# Problema 9"
      ]
    },
    {
      "cell_type": "markdown",
      "metadata": {
        "id": "UtblbNCYqxOM"
      },
      "source": [
        "El tercer término de una sucesión geométrica es $5$ y el sexto término es $40$. Determine:\n",
        "\n",
        "1. La razón geométrica de la sucesión.\n",
        "2. El primer término de la sucesión.\n",
        "3. La expresión del término de lugar $n$.\n",
        "4. Utilice un código en *Python* para calcular el término que ocupa el lugar $8$.\n",
        "4. ¿Qué lugar ocupa en esta sucesión el término $20.480$? Calcule utilizando un ciclo *while*."
      ]
    },
    {
      "cell_type": "markdown",
      "metadata": {
        "id": "Ju4J8uWfxQKk"
      },
      "source": [
        "# Problema 10"
      ]
    },
    {
      "cell_type": "markdown",
      "metadata": {
        "id": "F6FPVCXQxTMj"
      },
      "source": [
        "Una empresa de tecnología está optimizando sus servidores. Para ello mide las transacciones por segundo (TPS) de sus servidores en cada mes. Se ha obtenido que en el segundo mes, el rendimiento del servidor fue $1,2$ miles de TPS y en el quinto mes, el rendimiento fue $2,7$ miles de TPS. Si el número de TPS que hay mes a mes sigue una sucesión geométrica, determina utilizando un código en *Python*:\n",
        "\n",
        "1. ¿Cuál es el rendimiento el noveno mes?\n",
        "2. ¿En qué mes el rendimiento es de $23,4$ miles de TPS?\n",
        "\n",
        "Utilice dos decimales para el cálculo."
      ]
    },
    {
      "cell_type": "markdown",
      "metadata": {
        "id": "jxQyaJXUCW7m"
      },
      "source": [
        "# Problema 11"
      ]
    },
    {
      "cell_type": "markdown",
      "metadata": {
        "id": "8LdxsBUwDfbf"
      },
      "source": [
        "Una aplicación de redes sociales se estrenó el $1$ de enero con una cierta cantidad de usuarios. A partir de ahí, el número de usuarios nuevos de cada día fue siempre el mismo. El $3$ de enero tenía $500$ usuarios en total y el $10$ de enero tenía $1.501$ usuarios totales.Determine:\n",
        "\n",
        "1. ¿Con cuántos usuarios comenzó a funcionar la aplicación?\n",
        "2. ¿Cuántos usuarios tendrá la aplicación el $31$ de enero?\n",
        "3. Si la aplicación tiene $5.505$ usuarios, ¿cuántos meses lleva funcionando?\n",
        "\n"
      ]
    },
    {
      "cell_type": "markdown",
      "metadata": {
        "id": "zBN3BhYVLLSe"
      },
      "source": [
        "# Problema 12"
      ]
    },
    {
      "cell_type": "markdown",
      "metadata": {
        "id": "kszkhh_GLQN1"
      },
      "source": [
        "Una empresa de publicidad ofrece para un puesto de trabajo un salario inicial y un aumento mensual en una razón constante. Javier se presenta a la entrevista, y el encargado del departamento de recursos humanos le explica que en el segundo mes de trabajo su sueldo será de $\\$402.000$, y que en el tercer mes de trabajo será de $\\$404.010$. Determine:\n",
        "\n",
        "1. El salario aproximado que Javier recibiría en el décimo mes de trabajo en la empresa.\n",
        "2. ¿Cuál sería el ingreso total recibido por los sueldos de Javier durante el tercer año de trabajo?"
      ]
    },
    {
      "cell_type": "markdown",
      "metadata": {
        "id": "-lx5k4b9Y8sD"
      },
      "source": [
        "# Problema 13"
      ]
    },
    {
      "cell_type": "markdown",
      "metadata": {
        "id": "OVuWQuXsY_pp"
      },
      "source": [
        "Una empresa de ciberseguridad capacita trabajadores cada trimestre. En el primer trimestre capacitaron a $30$ trabajadores, en el segundo trimestre a $60$ trabajadores, y en el tercer trimestre a $120$ trabajadores. Si en los siguientes trimestres la empresa mantiene el mismo patrón de crecimiento, determine utilizando *Python*:\n",
        "\n",
        "1. ¿A cuántos trabajadores capacitarán en el octavo trimestre?\n",
        "2. Si la empresa lleva en el mercado $3$ años, ¿a cuántos trabajadores han capacitado en total?"
      ]
    },
    {
      "cell_type": "markdown",
      "metadata": {
        "id": "IM7Xf51G6AXs"
      },
      "source": [
        "# Problema 14"
      ]
    },
    {
      "cell_type": "markdown",
      "metadata": {
        "id": "Ni_4WMQl6OeV"
      },
      "source": [
        "Al llenar un tambor con agua, se registra que durante el minuto $4$ el tambor recibe $128$ litros, y durante el minuto $9$ recibe $88$ litros. Sabiendo que en cada minuto recibe una cantidad $d$ de litros de agua menos que en el minuto anterior, determine:\n",
        "\n",
        "1. ¿En qué instante el tambor deja de recibir agua?\n",
        "2. ¿Cuántos litros recibe en total el tambor?\n",
        "\n",
        "Realice los cálculos anteriores utilizando *Python*."
      ]
    }
  ],
  "metadata": {
    "colab": {
      "provenance": []
    },
    "kernelspec": {
      "display_name": "Python 3",
      "name": "python3"
    },
    "language_info": {
      "codemirror_mode": {
        "name": "ipython",
        "version": 3
      },
      "file_extension": ".py",
      "mimetype": "text/x-python",
      "name": "python",
      "nbconvert_exporter": "python",
      "pygments_lexer": "ipython3",
      "version": "3.13.3"
    }
  },
  "nbformat": 4,
  "nbformat_minor": 0
}
