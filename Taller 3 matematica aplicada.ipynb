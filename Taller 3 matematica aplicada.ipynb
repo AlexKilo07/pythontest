{
 "cells": [
  {
   "cell_type": "markdown",
   "metadata": {},
   "source": [
    "# El enigma de la Flor Matakiterani: Desentrañando patrones matemáticos"
   ]
  },
  {
   "cell_type": "markdown",
   "metadata": {},
   "source": [
    "En una misteriosa y enigmática isla, florece una planta única en el mundo: la Flor Matakiterani. Esta flor, venerada por los isleños, es famosa por su belleza excepcional y su patrón único de crecimiento en el número de pétalos. Según las leyendas locales, la Flor Matakiterani posee propiedades mágicas y curativas. Los habitantes de la isla han observado que estas flores pueden producir desde un mínimo de $10$ pétalos y hasta un asombroso máximo de $955$ pétalos por día. En este taller, exploraremos las propiedades matemáticas de esta flor. \n",
    "\n",
    "1. La Flor Matakiterani sigue una secuencia específica en el número de pétalos que la flor produce cada día. Después de años de observación, los isleños han descubierto que la cantidad de pétalos que la flor produce en el $n$-ésimo día sigue la fórmula: $F_{n} = 7n + 3$, dónde $n$ corresponde al número de días. Calcula cuántos pétalos producirá la Flor Matakiterani en el día $15$.\n",
    "1. ¿Cuántos días deben transcurrir para que la flor alcance su valor máximo de pétalos producidos?\n",
    "1. ¿Existe un día en que la flor Matakiterani produzca $870$ pétalos? Explique.\n",
    "1. Los isleños descubrieron otra flor cuyas propiedades parecen estar ligadas a otro tipo de secuencia. Durante los primeros $6$ días, esta flor crece de manera que el número de pétalos producidos en el $n$-ésimo día se duplica con respecto al día anterior. Si el primer día produce $3$ pétalo, construye la expresión algebraica $G_{n}$ que represente el número de pétalos producidos en el $n$-ésimo día e imprime ordenadamente la cantidad de pétalos producidos durante los primeros seis días.\n",
    "1. Los isleños han notado que, luego de los primeros $6$ días, la magia de esta segunda flor pierde potencia, haciendo que el crecimiento sea más lento, modelado por la expresión: $$H_n = 6 \\cdot (n - 7)\\text{ para }n > 6.$$ Calcula el total de pétalos producidos por esta segunda flor al finalizar un mes de $28$ días, considerando que comienza a florecer el día $1$.\n"
   ]
  },
  {
   "cell_type": "code",
   "execution_count": 1,
   "metadata": {},
   "outputs": [
    {
     "name": "stdout",
     "output_type": "stream",
     "text": [
      "El numero de petalos que la flor produce en el dia 15 es: 108\n"
     ]
    }
   ],
   "source": [
    "# min= 10 petalos\n",
    "# max=995\n",
    "1.\n",
    "def f_n(n):\n",
    "    return 7*n+3 \n",
    "\n",
    "termino=f_n(15)\n",
    "print(f\"El numero de petalos que la flor produce en el dia 15 es: {termino}\")"
   ]
  },
  {
   "cell_type": "code",
   "execution_count": 2,
   "metadata": {},
   "outputs": [
    {
     "name": "stdout",
     "output_type": "stream",
     "text": [
      "136.0\n"
     ]
    }
   ],
   "source": [
    "2.\n",
    "#955=7*n+3\n",
    "valor_buscado=(955-3)/7\n",
    "print(valor_buscado)"
   ]
  },
  {
   "cell_type": "code",
   "execution_count": 8,
   "metadata": {},
   "outputs": [
    {
     "name": "stdout",
     "output_type": "stream",
     "text": [
      "[10, 17, 24, 31, 38, 45, 52, 59, 66, 73, 80, 87, 94, 101, 108, 115, 122, 129, 136, 143, 150, 157, 164, 171, 178, 185, 192, 199, 206, 213, 220, 227, 234, 241, 248, 255, 262, 269, 276, 283, 290, 297, 304, 311, 318, 325, 332, 339, 346, 353, 360, 367, 374, 381, 388, 395, 402, 409, 416, 423, 430, 437, 444, 451, 458, 465, 472, 479, 486, 493, 500, 507, 514, 521, 528, 535, 542, 549, 556, 563, 570, 577, 584, 591, 598, 605, 612, 619, 626, 633, 640, 647, 654, 661, 668, 675, 682, 689, 696, 703, 710, 717, 724, 731, 738, 745, 752, 759, 766, 773, 780, 787, 794, 801, 808, 815, 822, 829, 836, 843, 850, 857, 864, 871, 878, 885, 892, 899, 906, 913, 920, 927, 934, 941, 948, 955, 962, 969, 976, 983, 990, 997, 1004, 1011, 1018, 1025, 1032, 1039, 1046, 1053, 1060, 1067, 1074, 1081, 1088, 1095, 1102, 1109, 1116, 1123, 1130, 1137, 1144, 1151, 1158, 1165, 1172, 1179, 1186, 1193, 1200, 1207, 1214, 1221, 1228, 1235, 1242, 1249, 1256, 1263, 1270, 1277, 1284, 1291, 1298, 1305, 1312, 1319, 1326, 1333, 1340, 1347, 1354, 1361, 1368, 1375, 1382, 1389, 1396]\n"
     ]
    },
    {
     "ename": "ValueError",
     "evalue": "870 is not in list",
     "output_type": "error",
     "traceback": [
      "\u001b[1;31m---------------------------------------------------------------------------\u001b[0m",
      "\u001b[1;31mValueError\u001b[0m                                Traceback (most recent call last)",
      "\u001b[1;32m<ipython-input-8-7cb4dd0716ca>\u001b[0m in \u001b[0;36m<module>\u001b[1;34m\u001b[0m\n\u001b[0;32m     10\u001b[0m \u001b[1;33m\u001b[0m\u001b[0m\n\u001b[0;32m     11\u001b[0m \u001b[0mprint\u001b[0m\u001b[1;33m(\u001b[0m\u001b[0mlista\u001b[0m\u001b[1;33m)\u001b[0m\u001b[1;33m\u001b[0m\u001b[1;33m\u001b[0m\u001b[0m\n\u001b[1;32m---> 12\u001b[1;33m \u001b[0mtermino\u001b[0m\u001b[1;33m=\u001b[0m\u001b[0mlista\u001b[0m\u001b[1;33m.\u001b[0m\u001b[0mindex\u001b[0m\u001b[1;33m(\u001b[0m\u001b[1;36m870\u001b[0m\u001b[1;33m)\u001b[0m\u001b[1;33m\u001b[0m\u001b[1;33m\u001b[0m\u001b[0m\n\u001b[0m\u001b[0;32m     13\u001b[0m \u001b[1;33m\u001b[0m\u001b[0m\n\u001b[0;32m     14\u001b[0m \u001b[1;32mif\u001b[0m \u001b[0mtermino\u001b[0m \u001b[1;32min\u001b[0m \u001b[0mlista\u001b[0m\u001b[1;33m:\u001b[0m\u001b[1;33m\u001b[0m\u001b[1;33m\u001b[0m\u001b[0m\n",
      "\u001b[1;31mValueError\u001b[0m: 870 is not in list"
     ]
    }
   ],
   "source": [
    "# 3. INCOMPLETO!!!\n",
    "lista=[]\n",
    "\n",
    "def f_n(n):\n",
    "    return 7*n+3 \n",
    "\n",
    "for n in range(1,200):\n",
    "    termino=f_n(n)\n",
    "    lista.append(termino)\n",
    "\n",
    "print(lista)\n",
    "termino=lista.index(870)\n",
    "\n",
    "if termino in lista:\n",
    "    print(\"El numero está en la lista\")\n",
    "else:\n",
    "    print(\"El numero no está en la lista\")"
   ]
  }
 ],
 "metadata": {
  "kernelspec": {
   "display_name": "base",
   "language": "python",
   "name": "python3"
  },
  "language_info": {
   "codemirror_mode": {
    "name": "ipython",
    "version": 3
   },
   "file_extension": ".py",
   "mimetype": "text/x-python",
   "name": "python",
   "nbconvert_exporter": "python",
   "pygments_lexer": "ipython3",
   "version": "3.8.5"
  }
 },
 "nbformat": 4,
 "nbformat_minor": 2
}
