{
 "cells": [
  {
   "cell_type": "markdown",
   "id": "16d70c8b",
   "metadata": {},
   "source": [
    "# Ejercicio de práctica para taller 3\n",
    "En lo profundo del Valle de Zanar, oculto entre montañas cubiertas de niebla, crece un arbusto legendario conocido como Kuarahy. Este arbusto, admirado por los sabios del valle, posee una estructura fascinante: cada día, despliega una nueva cantidad de hojas siguiendo un patrón matemático preciso. Se dice que sus hojas brillan con la luz del amanecer y tienen propiedades que influyen en los sueños.\n",
    "Los sabios del valle han estudiado durante generaciones el comportamiento de este arbusto y han registrado que desarrolla entre 7 y 997 hojas por día.\n",
    "El Kuarahy sigue una secuencia aritmética en la cantidad de hojas que despliega cada día. Después de muchos años, los sabios descubrieron que la fórmula que rige esta secuencia es: Kn = 4n + 3, donde n representa el número de días desde el inicio del nacimiento de sus hojas.\n",
    "1. ¿Cuántas hojas produce el Kuarahy en el día 12?\n",
    "2. ¿Cuántos días deben pasar para que el arbusto produzca su máximo número de hojas, considerando el límite observado de 997?\n",
    "3. Un aprendiz curioso pregunta si existe un día en el que el Kuarahy produce exactamente 835 hojas. ¿Cómo puedes comprobarlo? ¿Es posible? Explica tu razonamiento.\n",
    "4. En una zona cercana del valle, existe otro arbusto llamado Arasai, cuyo comportamiento inicial es distinto: durante los primeros 6 días, el número de hojas se triplica con respecto al día anterior. Si el primer día produce 2 hojas:\n",
    "a) Escribe la fórmula An que represente el número de hojas producidas el día n. b) Muestra cuántas hojas produce este arbusto durante los primeros 6 días.\n",
    "5. A partir del séptimo día, el Arasai comienza a desarrollar hojas más lentamente, siguiendo esta fórmula: Bn = 10 + 2(n−6), para n > 6.\n",
    "Calcula cuántas hojas habrá producido en total el Arasai al concluir el día 30, sumando los días de crecimiento rápido y lento."
   ]
  },
  {
   "cell_type": "code",
   "execution_count": 2,
   "id": "a346129c",
   "metadata": {},
   "outputs": [
    {
     "name": "stdout",
     "output_type": "stream",
     "text": [
      "La cantidad de hojas que produce el Kuarahy en el día 12 es de: 51 hojas\n"
     ]
    }
   ],
   "source": [
    "1.\n",
    "def k_n(n):\n",
    "    return 4*n + 3\n",
    "\n",
    "termino=k_n(12)\n",
    "\n",
    "print(f\"La cantidad de hojas que produce el Kuarahy en el día 12 es de: {termino} hojas\")"
   ]
  },
  {
   "cell_type": "code",
   "execution_count": null,
   "id": "033ad369",
   "metadata": {},
   "outputs": [
    {
     "name": "stdout",
     "output_type": "stream",
     "text": [
      "248.5\n"
     ]
    }
   ],
   "source": [
    "2.\n",
    "# 997=4*n+3\n",
    "\n",
    "n=(997-3)/4\n",
    "\n",
    "print(n)\n",
    "\n",
    "print(\"No hay un dia exacto en que el arbusto produce 997 hojas\")"
   ]
  },
  {
   "cell_type": "code",
   "execution_count": 7,
   "id": "ee1a19de",
   "metadata": {},
   "outputs": [
    {
     "name": "stdout",
     "output_type": "stream",
     "text": [
      "[3, 7, 11, 15, 19, 23, 27, 31, 35, 39, 43, 47, 51, 55, 59, 63, 67, 71, 75, 79, 83, 87, 91, 95, 99, 103, 107, 111, 115, 119, 123, 127, 131, 135, 139, 143, 147, 151, 155, 159, 163, 167, 171, 175, 179, 183, 187, 191, 195, 199, 203, 207, 211, 215, 219, 223, 227, 231, 235, 239, 243, 247, 251, 255, 259, 263, 267, 271, 275, 279, 283, 287, 291, 295, 299, 303, 307, 311, 315, 319, 323, 327, 331, 335, 339, 343, 347, 351, 355, 359, 363, 367, 371, 375, 379, 383, 387, 391, 395, 399, 403, 407, 411, 415, 419, 423, 427, 431, 435, 439, 443, 447, 451, 455, 459, 463, 467, 471, 475, 479, 483, 487, 491, 495, 499, 503, 507, 511, 515, 519, 523, 527, 531, 535, 539, 543, 547, 551, 555, 559, 563, 567, 571, 575, 579, 583, 587, 591, 595, 599, 603, 607, 611, 615, 619, 623, 627, 631, 635, 639, 643, 647, 651, 655, 659, 663, 667, 671, 675, 679, 683, 687, 691, 695, 699, 703, 707, 711, 715, 719, 723, 727, 731, 735, 739, 743, 747, 751, 755, 759, 763, 767, 771, 775, 779, 783, 787, 791, 795, 799, 803, 807, 811, 815, 819, 823, 827, 831, 835, 839, 843, 847, 851, 855, 859, 863, 867, 871, 875, 879, 883, 887, 891, 895, 899, 903, 907, 911, 915, 919, 923, 927, 931, 935, 939, 943, 947, 951, 955, 959, 963, 967, 971, 975, 979, 983, 987, 991, 995, 999]\n",
      "835 hojas pertenece a la sucesion y ocupa el lugar: 208\n"
     ]
    }
   ],
   "source": [
    "3.\n",
    "lista=[]\n",
    "\n",
    "def k_n(n):\n",
    "    return 4*n + 3\n",
    "\n",
    "for n in range(250):\n",
    "    termino=k_n(n)\n",
    "    lista.append(termino)\n",
    "\n",
    "print(lista)\n",
    "\n",
    "indice=lista.index(835)\n",
    "print(f\"835 hojas pertenece a la sucesion y ocupa el lugar: {indice}\")\n"
   ]
  },
  {
   "cell_type": "code",
   "execution_count": 12,
   "id": "ac6cba65",
   "metadata": {},
   "outputs": [
    {
     "name": "stdout",
     "output_type": "stream",
     "text": [
      "[2, 6, 18, 54, 162, 486]\n",
      "La cantidad de hojas que produce en 6 dias es de: 728 hojas\n"
     ]
    }
   ],
   "source": [
    "4.\n",
    "# a_n=a_1*r**(n-1) = ESTA ES LA FORMULA QUE SE OCUPA EN UNA SUCESION GEOMETRICA\n",
    "\n",
    "# a) \n",
    "def a_n(n):\n",
    "    return 2*3**(n-1)\n",
    "\n",
    "# b)\n",
    "lista=[]\n",
    "\n",
    "for n in range(1,7):\n",
    "    termino=a_n(n)\n",
    "    lista.append(termino)\n",
    "    \n",
    "print(lista)\n",
    "suma=sum(lista)\n",
    "print(f\"La cantidad de hojas que produce en 6 dias es de: {suma} hojas\")\n",
    "\n"
   ]
  },
  {
   "cell_type": "code",
   "execution_count": 22,
   "id": "7b660e74",
   "metadata": {},
   "outputs": [
    {
     "name": "stdout",
     "output_type": "stream",
     "text": [
      "[2, 6, 18, 54, 162, 486, 12, 14, 16, 18, 20, 22, 24, 26, 28, 30, 32, 34, 36, 38, 40, 42, 44, 46, 48, 50, 52, 54, 56, 58]\n",
      "La cantidad de hojas durante 30 dias en total es: 1568\n"
     ]
    }
   ],
   "source": [
    "5.\n",
    "lista=[]\n",
    "\n",
    "def b_n(n):\n",
    "    if n<=6:\n",
    "        return 2*3**(n-1)\n",
    "    elif n>6:\n",
    "        return 10+2*(n-6)\n",
    "\n",
    "for n in range(1,31):\n",
    "    termino=b_n(n)\n",
    "    lista.append(termino)\n",
    "\n",
    "print(lista)\n",
    "suma=sum(lista)\n",
    "print(f\"La cantidad de hojas durante 30 dias en total es: {suma}\")\n"
   ]
  }
 ],
 "metadata": {
  "kernelspec": {
   "display_name": "base",
   "language": "python",
   "name": "python3"
  },
  "language_info": {
   "codemirror_mode": {
    "name": "ipython",
    "version": 3
   },
   "file_extension": ".py",
   "mimetype": "text/x-python",
   "name": "python",
   "nbconvert_exporter": "python",
   "pygments_lexer": "ipython3",
   "version": "3.8.5"
  }
 },
 "nbformat": 4,
 "nbformat_minor": 5
}
